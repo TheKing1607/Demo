{
 "cells": [
  {
   "attachments": {},
   "cell_type": "markdown",
   "id": "58b2913c",
   "metadata": {},
   "source": [
    "<h1 style=\"color: green; text-align: center\">Regression Model - Smartphone Price Prediction System -</h1>\n",
    "<hr width: 5px>\n",
    "<h3>✍ written by : </h3>\n",
    "<p><b>Maghouti</b> Aymane <br><b></b> Data engineering Student at the national school of applied sciences of alhociema <b>ENSAH</b></p>\n",
    "<p style=\"text-align: right;\"><b>23-December | <span style=\"color: red;\">2023</span></b></p>"
   ]
  },
  {
   "cell_type": "code",
   "id": "02cf938c",
   "metadata": {
    "ExecuteTime": {
     "end_time": "2024-08-10T04:35:47.908865Z",
     "start_time": "2024-08-10T04:35:47.896759Z"
    }
   },
   "source": [
    "import numpy as np\n",
    "import pandas as pd\n",
    "from sklearn.model_selection import train_test_split\n",
    "from sklearn.ensemble import RandomForestRegressor\n",
    "from sklearn.linear_model import LinearRegression, Ridge, Lasso\n",
    "from xgboost import XGBRegressor\n",
    "from sklearn.model_selection import cross_val_score, KFold\n",
    "from sklearn.metrics import mean_squared_error, mean_absolute_error, r2_score\n"
   ],
   "outputs": [],
   "execution_count": 33
  },
  {
   "cell_type": "code",
   "id": "0dc83905",
   "metadata": {
    "ExecuteTime": {
     "end_time": "2024-08-10T04:35:49.099186Z",
     "start_time": "2024-08-10T04:35:49.081901Z"
    }
   },
   "source": "df = pd.read_csv('smartphone_Data_with_mean_price.csv')",
   "outputs": [],
   "execution_count": 34
  },
  {
   "cell_type": "code",
   "id": "b7ac6b5c",
   "metadata": {
    "ExecuteTime": {
     "end_time": "2024-08-10T04:35:50.122756Z",
     "start_time": "2024-08-10T04:35:50.111448Z"
    }
   },
   "source": [
    "df = df.drop(columns='Unnamed: 0')"
   ],
   "outputs": [],
   "execution_count": 35
  },
  {
   "cell_type": "code",
   "id": "9611a802",
   "metadata": {
    "ExecuteTime": {
     "end_time": "2024-08-10T04:35:51.021743Z",
     "start_time": "2024-08-10T04:35:50.992234Z"
    }
   },
   "source": [
    "df.head()"
   ],
   "outputs": [
    {
     "data": {
      "text/plain": [
       "     brand  screen_size  ram    rom sim_type  battary   price\n",
       "0    Tecno         6.80  8.0  128.0     Dual   5000.0  2125.0\n",
       "1  Infinix         6.82  8.0  128.0     Dual   6000.0  1377.0\n",
       "2   XIAOMI         6.52  3.0   64.0     Dual   5000.0   930.0\n",
       "3    Tecno         6.60  4.0  128.0     Dual   5000.0  1449.0\n",
       "4  Infinix         6.60  2.0   64.0     Dual   5000.0   876.0"
      ],
      "text/html": [
       "<div>\n",
       "<style scoped>\n",
       "    .dataframe tbody tr th:only-of-type {\n",
       "        vertical-align: middle;\n",
       "    }\n",
       "\n",
       "    .dataframe tbody tr th {\n",
       "        vertical-align: top;\n",
       "    }\n",
       "\n",
       "    .dataframe thead th {\n",
       "        text-align: right;\n",
       "    }\n",
       "</style>\n",
       "<table border=\"1\" class=\"dataframe\">\n",
       "  <thead>\n",
       "    <tr style=\"text-align: right;\">\n",
       "      <th></th>\n",
       "      <th>brand</th>\n",
       "      <th>screen_size</th>\n",
       "      <th>ram</th>\n",
       "      <th>rom</th>\n",
       "      <th>sim_type</th>\n",
       "      <th>battary</th>\n",
       "      <th>price</th>\n",
       "    </tr>\n",
       "  </thead>\n",
       "  <tbody>\n",
       "    <tr>\n",
       "      <th>0</th>\n",
       "      <td>Tecno</td>\n",
       "      <td>6.80</td>\n",
       "      <td>8.0</td>\n",
       "      <td>128.0</td>\n",
       "      <td>Dual</td>\n",
       "      <td>5000.0</td>\n",
       "      <td>2125.0</td>\n",
       "    </tr>\n",
       "    <tr>\n",
       "      <th>1</th>\n",
       "      <td>Infinix</td>\n",
       "      <td>6.82</td>\n",
       "      <td>8.0</td>\n",
       "      <td>128.0</td>\n",
       "      <td>Dual</td>\n",
       "      <td>6000.0</td>\n",
       "      <td>1377.0</td>\n",
       "    </tr>\n",
       "    <tr>\n",
       "      <th>2</th>\n",
       "      <td>XIAOMI</td>\n",
       "      <td>6.52</td>\n",
       "      <td>3.0</td>\n",
       "      <td>64.0</td>\n",
       "      <td>Dual</td>\n",
       "      <td>5000.0</td>\n",
       "      <td>930.0</td>\n",
       "    </tr>\n",
       "    <tr>\n",
       "      <th>3</th>\n",
       "      <td>Tecno</td>\n",
       "      <td>6.60</td>\n",
       "      <td>4.0</td>\n",
       "      <td>128.0</td>\n",
       "      <td>Dual</td>\n",
       "      <td>5000.0</td>\n",
       "      <td>1449.0</td>\n",
       "    </tr>\n",
       "    <tr>\n",
       "      <th>4</th>\n",
       "      <td>Infinix</td>\n",
       "      <td>6.60</td>\n",
       "      <td>2.0</td>\n",
       "      <td>64.0</td>\n",
       "      <td>Dual</td>\n",
       "      <td>5000.0</td>\n",
       "      <td>876.0</td>\n",
       "    </tr>\n",
       "  </tbody>\n",
       "</table>\n",
       "</div>"
      ]
     },
     "execution_count": 36,
     "metadata": {},
     "output_type": "execute_result"
    }
   ],
   "execution_count": 36
  },
  {
   "cell_type": "code",
   "id": "16a3e126",
   "metadata": {
    "ExecuteTime": {
     "end_time": "2024-08-10T04:35:54.227991Z",
     "start_time": "2024-08-10T04:35:54.210760Z"
    }
   },
   "source": [
    "def map_brand_to_numeric(brand):\n",
    "    brand_mapping = {\n",
    "        'Maxfone': 1,\n",
    "        'Infinix': 2,\n",
    "        'Freeyond': 3,\n",
    "        'XIAOMI': 4,\n",
    "        'Tecno': 5,\n",
    "        'Oppo': 6,\n",
    "        'Nokia': 7,\n",
    "        'Samsung': 8,\n",
    "        'Huawei': 9,\n",
    "        'Vivo': 10,\n",
    "        'Realme': 11,\n",
    "        'Sowhat': 12,\n",
    "        'Apple':13,\n",
    "        'Gionee' :14\n",
    "    }\n",
    "    return brand_mapping.get(brand, 0)\n",
    "\n",
    "df['brand'] = df['brand'].apply(map_brand_to_numeric)\n",
    "\n",
    "\n"
   ],
   "outputs": [],
   "execution_count": 37
  },
  {
   "cell_type": "code",
   "id": "cdf31b05",
   "metadata": {
    "ExecuteTime": {
     "end_time": "2024-08-10T04:35:55.191518Z",
     "start_time": "2024-08-10T04:35:55.182180Z"
    }
   },
   "source": [
    "def map_sim_type_to_numeric(sim_type):\n",
    "    sim_type_mapping = {\n",
    "        'Dual': 1,\n",
    "        'Single': 2\n",
    "            }\n",
    "    \n",
    "    return sim_type_mapping.get(sim_type, 0)\n",
    "\n",
    "df['sim_type'] = df['sim_type'].apply(map_sim_type_to_numeric)"
   ],
   "outputs": [],
   "execution_count": 38
  },
  {
   "cell_type": "code",
   "id": "b21270fd",
   "metadata": {
    "ExecuteTime": {
     "end_time": "2024-08-10T04:35:56.112586Z",
     "start_time": "2024-08-10T04:35:56.084428Z"
    }
   },
   "source": [
    "df.head()"
   ],
   "outputs": [
    {
     "data": {
      "text/plain": [
       "   brand  screen_size  ram    rom  sim_type  battary   price\n",
       "0      5         6.80  8.0  128.0         1   5000.0  2125.0\n",
       "1      2         6.82  8.0  128.0         1   6000.0  1377.0\n",
       "2      4         6.52  3.0   64.0         1   5000.0   930.0\n",
       "3      5         6.60  4.0  128.0         1   5000.0  1449.0\n",
       "4      2         6.60  2.0   64.0         1   5000.0   876.0"
      ],
      "text/html": [
       "<div>\n",
       "<style scoped>\n",
       "    .dataframe tbody tr th:only-of-type {\n",
       "        vertical-align: middle;\n",
       "    }\n",
       "\n",
       "    .dataframe tbody tr th {\n",
       "        vertical-align: top;\n",
       "    }\n",
       "\n",
       "    .dataframe thead th {\n",
       "        text-align: right;\n",
       "    }\n",
       "</style>\n",
       "<table border=\"1\" class=\"dataframe\">\n",
       "  <thead>\n",
       "    <tr style=\"text-align: right;\">\n",
       "      <th></th>\n",
       "      <th>brand</th>\n",
       "      <th>screen_size</th>\n",
       "      <th>ram</th>\n",
       "      <th>rom</th>\n",
       "      <th>sim_type</th>\n",
       "      <th>battary</th>\n",
       "      <th>price</th>\n",
       "    </tr>\n",
       "  </thead>\n",
       "  <tbody>\n",
       "    <tr>\n",
       "      <th>0</th>\n",
       "      <td>5</td>\n",
       "      <td>6.80</td>\n",
       "      <td>8.0</td>\n",
       "      <td>128.0</td>\n",
       "      <td>1</td>\n",
       "      <td>5000.0</td>\n",
       "      <td>2125.0</td>\n",
       "    </tr>\n",
       "    <tr>\n",
       "      <th>1</th>\n",
       "      <td>2</td>\n",
       "      <td>6.82</td>\n",
       "      <td>8.0</td>\n",
       "      <td>128.0</td>\n",
       "      <td>1</td>\n",
       "      <td>6000.0</td>\n",
       "      <td>1377.0</td>\n",
       "    </tr>\n",
       "    <tr>\n",
       "      <th>2</th>\n",
       "      <td>4</td>\n",
       "      <td>6.52</td>\n",
       "      <td>3.0</td>\n",
       "      <td>64.0</td>\n",
       "      <td>1</td>\n",
       "      <td>5000.0</td>\n",
       "      <td>930.0</td>\n",
       "    </tr>\n",
       "    <tr>\n",
       "      <th>3</th>\n",
       "      <td>5</td>\n",
       "      <td>6.60</td>\n",
       "      <td>4.0</td>\n",
       "      <td>128.0</td>\n",
       "      <td>1</td>\n",
       "      <td>5000.0</td>\n",
       "      <td>1449.0</td>\n",
       "    </tr>\n",
       "    <tr>\n",
       "      <th>4</th>\n",
       "      <td>2</td>\n",
       "      <td>6.60</td>\n",
       "      <td>2.0</td>\n",
       "      <td>64.0</td>\n",
       "      <td>1</td>\n",
       "      <td>5000.0</td>\n",
       "      <td>876.0</td>\n",
       "    </tr>\n",
       "  </tbody>\n",
       "</table>\n",
       "</div>"
      ]
     },
     "execution_count": 39,
     "metadata": {},
     "output_type": "execute_result"
    }
   ],
   "execution_count": 39
  },
  {
   "cell_type": "markdown",
   "id": "556bc59d",
   "metadata": {},
   "source": [
    "# Trying Multple Models"
   ]
  },
  {
   "cell_type": "markdown",
   "id": "d51d55d7",
   "metadata": {},
   "source": [
    "# 1. RandomForestRegressor "
   ]
  },
  {
   "cell_type": "markdown",
   "id": "bd568cff",
   "metadata": {},
   "source": [
    "Define the features (X) and the target variable (y)"
   ]
  },
  {
   "cell_type": "code",
   "id": "6f3086e3",
   "metadata": {
    "ExecuteTime": {
     "end_time": "2024-08-10T04:36:04.076151Z",
     "start_time": "2024-08-10T04:36:04.064699Z"
    }
   },
   "source": [
    "features = ['screen_size', 'ram', 'rom', 'brand', 'sim_type', 'battary']\n",
    "target = 'price'\n",
    "\n",
    "X = df[features]\n",
    "y = df[target]"
   ],
   "outputs": [],
   "execution_count": 40
  },
  {
   "cell_type": "markdown",
   "id": "0950162a",
   "metadata": {},
   "source": [
    "Split the data into training and testing sets\n"
   ]
  },
  {
   "cell_type": "code",
   "id": "e36393b7",
   "metadata": {
    "ExecuteTime": {
     "end_time": "2024-08-10T04:36:06.942938Z",
     "start_time": "2024-08-10T04:36:06.928594Z"
    }
   },
   "source": [
    "X_train, X_test, y_train, y_test = train_test_split(X, y, test_size=0.2, random_state=42)"
   ],
   "outputs": [],
   "execution_count": 41
  },
  {
   "cell_type": "markdown",
   "id": "2b3c0985",
   "metadata": {},
   "source": [
    "model Training & Apply cross-validation on the training set (Using negative MSE for cross-validation)"
   ]
  },
  {
   "cell_type": "code",
   "id": "d57ec54b",
   "metadata": {
    "ExecuteTime": {
     "end_time": "2024-08-10T04:36:10.949247Z",
     "start_time": "2024-08-10T04:36:09.049144Z"
    }
   },
   "source": [
    "\n",
    "model = RandomForestRegressor()\n",
    "\n",
    "cv_scores = cross_val_score(model, X_train, y_train, cv=5, scoring='neg_mean_squared_error')  \n",
    "\n",
    "model.fit(X_train, y_train)"
   ],
   "outputs": [
    {
     "data": {
      "text/plain": [
       "RandomForestRegressor()"
      ],
      "text/html": [
       "<style>#sk-container-id-3 {color: black;}#sk-container-id-3 pre{padding: 0;}#sk-container-id-3 div.sk-toggleable {background-color: white;}#sk-container-id-3 label.sk-toggleable__label {cursor: pointer;display: block;width: 100%;margin-bottom: 0;padding: 0.3em;box-sizing: border-box;text-align: center;}#sk-container-id-3 label.sk-toggleable__label-arrow:before {content: \"▸\";float: left;margin-right: 0.25em;color: #696969;}#sk-container-id-3 label.sk-toggleable__label-arrow:hover:before {color: black;}#sk-container-id-3 div.sk-estimator:hover label.sk-toggleable__label-arrow:before {color: black;}#sk-container-id-3 div.sk-toggleable__content {max-height: 0;max-width: 0;overflow: hidden;text-align: left;background-color: #f0f8ff;}#sk-container-id-3 div.sk-toggleable__content pre {margin: 0.2em;color: black;border-radius: 0.25em;background-color: #f0f8ff;}#sk-container-id-3 input.sk-toggleable__control:checked~div.sk-toggleable__content {max-height: 200px;max-width: 100%;overflow: auto;}#sk-container-id-3 input.sk-toggleable__control:checked~label.sk-toggleable__label-arrow:before {content: \"▾\";}#sk-container-id-3 div.sk-estimator input.sk-toggleable__control:checked~label.sk-toggleable__label {background-color: #d4ebff;}#sk-container-id-3 div.sk-label input.sk-toggleable__control:checked~label.sk-toggleable__label {background-color: #d4ebff;}#sk-container-id-3 input.sk-hidden--visually {border: 0;clip: rect(1px 1px 1px 1px);clip: rect(1px, 1px, 1px, 1px);height: 1px;margin: -1px;overflow: hidden;padding: 0;position: absolute;width: 1px;}#sk-container-id-3 div.sk-estimator {font-family: monospace;background-color: #f0f8ff;border: 1px dotted black;border-radius: 0.25em;box-sizing: border-box;margin-bottom: 0.5em;}#sk-container-id-3 div.sk-estimator:hover {background-color: #d4ebff;}#sk-container-id-3 div.sk-parallel-item::after {content: \"\";width: 100%;border-bottom: 1px solid gray;flex-grow: 1;}#sk-container-id-3 div.sk-label:hover label.sk-toggleable__label {background-color: #d4ebff;}#sk-container-id-3 div.sk-serial::before {content: \"\";position: absolute;border-left: 1px solid gray;box-sizing: border-box;top: 0;bottom: 0;left: 50%;z-index: 0;}#sk-container-id-3 div.sk-serial {display: flex;flex-direction: column;align-items: center;background-color: white;padding-right: 0.2em;padding-left: 0.2em;position: relative;}#sk-container-id-3 div.sk-item {position: relative;z-index: 1;}#sk-container-id-3 div.sk-parallel {display: flex;align-items: stretch;justify-content: center;background-color: white;position: relative;}#sk-container-id-3 div.sk-item::before, #sk-container-id-3 div.sk-parallel-item::before {content: \"\";position: absolute;border-left: 1px solid gray;box-sizing: border-box;top: 0;bottom: 0;left: 50%;z-index: -1;}#sk-container-id-3 div.sk-parallel-item {display: flex;flex-direction: column;z-index: 1;position: relative;background-color: white;}#sk-container-id-3 div.sk-parallel-item:first-child::after {align-self: flex-end;width: 50%;}#sk-container-id-3 div.sk-parallel-item:last-child::after {align-self: flex-start;width: 50%;}#sk-container-id-3 div.sk-parallel-item:only-child::after {width: 0;}#sk-container-id-3 div.sk-dashed-wrapped {border: 1px dashed gray;margin: 0 0.4em 0.5em 0.4em;box-sizing: border-box;padding-bottom: 0.4em;background-color: white;}#sk-container-id-3 div.sk-label label {font-family: monospace;font-weight: bold;display: inline-block;line-height: 1.2em;}#sk-container-id-3 div.sk-label-container {text-align: center;}#sk-container-id-3 div.sk-container {/* jupyter's `normalize.less` sets `[hidden] { display: none; }` but bootstrap.min.css set `[hidden] { display: none !important; }` so we also need the `!important` here to be able to override the default hidden behavior on the sphinx rendered scikit-learn.org. See: https://github.com/scikit-learn/scikit-learn/issues/21755 */display: inline-block !important;position: relative;}#sk-container-id-3 div.sk-text-repr-fallback {display: none;}</style><div id=\"sk-container-id-3\" class=\"sk-top-container\"><div class=\"sk-text-repr-fallback\"><pre>RandomForestRegressor()</pre><b>In a Jupyter environment, please rerun this cell to show the HTML representation or trust the notebook. <br />On GitHub, the HTML representation is unable to render, please try loading this page with nbviewer.org.</b></div><div class=\"sk-container\" hidden><div class=\"sk-item\"><div class=\"sk-estimator sk-toggleable\"><input class=\"sk-toggleable__control sk-hidden--visually\" id=\"sk-estimator-id-5\" type=\"checkbox\" checked><label for=\"sk-estimator-id-5\" class=\"sk-toggleable__label sk-toggleable__label-arrow\">RandomForestRegressor</label><div class=\"sk-toggleable__content\"><pre>RandomForestRegressor()</pre></div></div></div></div></div>"
      ]
     },
     "execution_count": 42,
     "metadata": {},
     "output_type": "execute_result"
    }
   ],
   "execution_count": 42
  },
  {
   "cell_type": "markdown",
   "id": "39ba8559",
   "metadata": {},
   "source": [
    "Evaluate the model on the test set and train set "
   ]
  },
  {
   "cell_type": "code",
   "id": "b804093f",
   "metadata": {
    "ExecuteTime": {
     "end_time": "2024-08-10T04:36:12.671882Z",
     "start_time": "2024-08-10T04:36:12.608011Z"
    }
   },
   "source": [
    "# Predictions on training set\n",
    "y_train_pred = model.predict(X_train)\n",
    "\n",
    "# Predictions on test set\n",
    "y_test_pred = model.predict(X_test)\n",
    "\n",
    "train_mse = mean_squared_error(y_train, y_train_pred)\n",
    "train_mae = mean_absolute_error(y_train, y_train_pred)\n",
    "train_r2 = r2_score(y_train, y_train_pred)\n",
    "\n",
    "test_mse = mean_squared_error(y_test, y_test_pred)\n",
    "test_mae = mean_absolute_error(y_test, y_test_pred)\n",
    "test_r2 = r2_score(y_test, y_test_pred)\n",
    "\n",
    "print(\"Training Set Metrics:\")\n",
    "print(f\"Mean Squared Error (MSE): {train_mse}\")\n",
    "print(f\"Mean Absolute Error (MAE): {train_mae}\")\n",
    "print(f\"R-squared (R²): {train_r2}\")\n",
    "print(\"\\n\")\n",
    "\n",
    "print(\"Test Set Metrics:\")\n",
    "print(f\"Mean Squared Error (MSE): {test_mse}\")\n",
    "print(f\"Mean Absolute Error (MAE): {test_mae}\")\n",
    "print(f\"R-squared (R²): {test_r2}\")\n"
   ],
   "outputs": [
    {
     "name": "stdout",
     "output_type": "stream",
     "text": [
      "Training Set Metrics:\n",
      "Mean Squared Error (MSE): 178072.17871290672\n",
      "Mean Absolute Error (MAE): 145.86067799040222\n",
      "R-squared (R²): 0.8850896590167127\n",
      "\n",
      "\n",
      "Test Set Metrics:\n",
      "Mean Squared Error (MSE): 1685990.594931319\n",
      "Mean Absolute Error (MAE): 431.90758056420816\n",
      "R-squared (R²): 0.7417250427787118\n"
     ]
    }
   ],
   "execution_count": 43
  },
  {
   "cell_type": "markdown",
   "id": "518fed32",
   "metadata": {},
   "source": [
    "# 2. XGBRegressor"
   ]
  },
  {
   "cell_type": "code",
   "id": "0feda0bc",
   "metadata": {
    "ExecuteTime": {
     "end_time": "2024-08-10T04:36:15.326946Z",
     "start_time": "2024-08-10T04:36:14.718544Z"
    }
   },
   "source": [
    "X_train, X_test, y_train, y_test = train_test_split(X, y, test_size=0.2, random_state=42)\n",
    "\n",
    "model_xg = XGBRegressor()\n",
    "\n",
    "cv_scores = cross_val_score(model_xg, X_train, y_train, cv=5, scoring='neg_mean_squared_error') \n",
    "\n",
    "model_xg.fit(X_train, y_train)\n",
    "\n",
    "y_train_pred = model_xg.predict(X_train)\n",
    "\n",
    "y_test_pred = model_xg.predict(X_test)\n",
    "\n",
    "train_mse = mean_squared_error(y_train, y_train_pred)\n",
    "train_mae = mean_absolute_error(y_train, y_train_pred)\n",
    "train_r2 = r2_score(y_train, y_train_pred)\n",
    "\n",
    "test_mse = mean_squared_error(y_test, y_test_pred)\n",
    "test_mae = mean_absolute_error(y_test, y_test_pred)\n",
    "test_r2 = r2_score(y_test, y_test_pred)\n",
    "\n",
    "print(\"Training Set Metrics:\")\n",
    "print(f\"Mean Squared Error (MSE): {train_mse}\")\n",
    "print(f\"Mean Absolute Error (MAE): {train_mae}\")\n",
    "print(f\"R-squared (R²): {train_r2}\")\n",
    "print(\"\\n\")\n",
    "\n",
    "print(\"Test Set Metrics:\")\n",
    "print(f\"Mean Squared Error (MSE): {test_mse}\")\n",
    "print(f\"Mean Absolute Error (MAE): {test_mae}\")\n",
    "print(f\"R-squared (R²): {test_r2}\")\n"
   ],
   "outputs": [
    {
     "name": "stdout",
     "output_type": "stream",
     "text": [
      "Training Set Metrics:\n",
      "Mean Squared Error (MSE): 21701.36544224132\n",
      "Mean Absolute Error (MAE): 91.62772413684476\n",
      "R-squared (R²): 0.9859960645127428\n",
      "\n",
      "\n",
      "Test Set Metrics:\n",
      "Mean Squared Error (MSE): 859561.3318531429\n",
      "Mean Absolute Error (MAE): 342.08100460737177\n",
      "R-squared (R²): 0.8683247896632024\n"
     ]
    }
   ],
   "execution_count": 44
  },
  {
   "cell_type": "markdown",
   "id": "c6b4159b",
   "metadata": {},
   "source": [
    "# 3. LinearRegression"
   ]
  },
  {
   "cell_type": "code",
   "id": "5ecbbd31",
   "metadata": {
    "ExecuteTime": {
     "end_time": "2024-08-10T04:36:16.928487Z",
     "start_time": "2024-08-10T04:36:16.816720Z"
    }
   },
   "source": [
    "X_train, X_test, y_train, y_test = train_test_split(X, y, test_size=0.2, random_state=42)\n",
    "\n",
    "model_lr = LinearRegression()\n",
    "\n",
    "cv_scores = cross_val_score(model_lr, X_train, y_train, cv=5, scoring='neg_mean_squared_error') \n",
    "\n",
    "model_lr.fit(X_train, y_train)\n",
    "\n",
    "y_train_pred = model_lr.predict(X_train)\n",
    "\n",
    "y_test_pred = model_lr.predict(X_test)\n",
    "\n",
    "train_mse = mean_squared_error(y_train, y_train_pred)\n",
    "train_mae = mean_absolute_error(y_train, y_train_pred)\n",
    "train_r2 = r2_score(y_train, y_train_pred)\n",
    "\n",
    "test_mse = mean_squared_error(y_test, y_test_pred)\n",
    "test_mae = mean_absolute_error(y_test, y_test_pred)\n",
    "test_r2 = r2_score(y_test, y_test_pred)\n",
    "\n",
    "print(\"Training Set Metrics:\")\n",
    "print(f\"Mean Squared Error (MSE): {train_mse}\")\n",
    "print(f\"Mean Absolute Error (MAE): {train_mae}\")\n",
    "print(f\"R-squared (R²): {train_r2}\")\n",
    "print(\"\\n\")\n",
    "\n",
    "print(\"Test Set Metrics:\")\n",
    "print(f\"Mean Squared Error (MSE): {test_mse}\")\n",
    "print(f\"Mean Absolute Error (MAE): {test_mae}\")\n",
    "print(f\"R-squared (R²): {test_r2}\")\n"
   ],
   "outputs": [
    {
     "name": "stdout",
     "output_type": "stream",
     "text": [
      "Training Set Metrics:\n",
      "Mean Squared Error (MSE): 788524.9411436175\n",
      "Mean Absolute Error (MAE): 455.99908668845694\n",
      "R-squared (R²): 0.4911632433793979\n",
      "\n",
      "\n",
      "Test Set Metrics:\n",
      "Mean Squared Error (MSE): 3581104.0010983828\n",
      "Mean Absolute Error (MAE): 718.3707009538502\n",
      "R-squared (R²): 0.45141480298331893\n"
     ]
    }
   ],
   "execution_count": 45
  },
  {
   "cell_type": "markdown",
   "id": "15f33814",
   "metadata": {},
   "source": [
    "# 4. Lasso"
   ]
  },
  {
   "cell_type": "code",
   "id": "639760ce",
   "metadata": {
    "ExecuteTime": {
     "end_time": "2024-08-10T04:36:18.741050Z",
     "start_time": "2024-08-10T04:36:18.633945Z"
    }
   },
   "source": [
    "X_train, X_test, y_train, y_test = train_test_split(X, y, test_size=0.2, random_state=42)\n",
    "\n",
    "model_lasso = Lasso()\n",
    "\n",
    "cv_scores = cross_val_score(model_lasso, X_train, y_train, cv=5, scoring='neg_mean_squared_error') \n",
    "\n",
    "model_lasso.fit(X_train, y_train)\n",
    "\n",
    "y_train_pred = model_lasso.predict(X_train)\n",
    "\n",
    "y_test_pred = model_lasso.predict(X_test)\n",
    "\n",
    "train_mse = mean_squared_error(y_train, y_train_pred)\n",
    "train_mae = mean_absolute_error(y_train, y_train_pred)\n",
    "train_r2 = r2_score(y_train, y_train_pred)\n",
    "\n",
    "test_mse = mean_squared_error(y_test, y_test_pred)\n",
    "test_mae = mean_absolute_error(y_test, y_test_pred)\n",
    "test_r2 = r2_score(y_test, y_test_pred)\n",
    "\n",
    "print(\"Training Set Metrics:\")\n",
    "print(f\"Mean Squared Error (MSE): {train_mse}\")\n",
    "print(f\"Mean Absolute Error (MAE): {train_mae}\")\n",
    "print(f\"R-squared (R²): {train_r2}\")\n",
    "print(\"\\n\")\n",
    "\n",
    "print(\"Test Set Metrics:\")\n",
    "print(f\"Mean Squared Error (MSE): {test_mse}\")\n",
    "print(f\"Mean Absolute Error (MAE): {test_mae}\")\n",
    "print(f\"R-squared (R²): {test_r2}\")\n"
   ],
   "outputs": [
    {
     "name": "stdout",
     "output_type": "stream",
     "text": [
      "Training Set Metrics:\n",
      "Mean Squared Error (MSE): 788628.7758316471\n",
      "Mean Absolute Error (MAE): 454.2878996286598\n",
      "R-squared (R²): 0.4910962386429274\n",
      "\n",
      "\n",
      "Test Set Metrics:\n",
      "Mean Squared Error (MSE): 3595019.0853077387\n",
      "Mean Absolute Error (MAE): 719.8986232190049\n",
      "R-squared (R²): 0.44928316726144324\n"
     ]
    }
   ],
   "execution_count": 46
  },
  {
   "cell_type": "markdown",
   "id": "f9106e88",
   "metadata": {},
   "source": [
    "# 5. Ridge"
   ]
  },
  {
   "cell_type": "code",
   "id": "eac25688",
   "metadata": {
    "ExecuteTime": {
     "end_time": "2024-08-10T04:36:20.431391Z",
     "start_time": "2024-08-10T04:36:20.327916Z"
    }
   },
   "source": [
    "X_train, X_test, y_train, y_test = train_test_split(X, y, test_size=0.2, random_state=42)\n",
    "\n",
    "model_ridge = Ridge()\n",
    "\n",
    "cv_scores = cross_val_score(model_ridge, X_train, y_train, cv=5, scoring='neg_mean_squared_error')  # Using negative MSE for cross-validation\n",
    "\n",
    "model_ridge.fit(X_train, y_train)\n",
    "\n",
    "y_train_pred = model_ridge.predict(X_train)\n",
    "\n",
    "y_test_pred = model_ridge.predict(X_test)\n",
    "\n",
    "train_mse = mean_squared_error(y_train, y_train_pred)\n",
    "train_mae = mean_absolute_error(y_train, y_train_pred)\n",
    "train_r2 = r2_score(y_train, y_train_pred)\n",
    "\n",
    "test_mse = mean_squared_error(y_test, y_test_pred)\n",
    "test_mae = mean_absolute_error(y_test, y_test_pred)\n",
    "test_r2 = r2_score(y_test, y_test_pred)\n",
    "\n",
    "print(\"Training Set Metrics:\")\n",
    "print(f\"Mean Squared Error (MSE): {train_mse}\")\n",
    "print(f\"Mean Absolute Error (MAE): {train_mae}\")\n",
    "print(f\"R-squared (R²): {train_r2}\")\n",
    "print(\"\\n\")\n",
    "\n",
    "print(\"Test Set Metrics:\")\n",
    "print(f\"Mean Squared Error (MSE): {test_mse}\")\n",
    "print(f\"Mean Absolute Error (MAE): {test_mae}\")\n",
    "print(f\"R-squared (R²): {test_r2}\")\n"
   ],
   "outputs": [
    {
     "name": "stdout",
     "output_type": "stream",
     "text": [
      "Training Set Metrics:\n",
      "Mean Squared Error (MSE): 791562.4364373637\n",
      "Mean Absolute Error (MAE): 448.18909083036596\n",
      "R-squared (R²): 0.48920314145633303\n",
      "\n",
      "\n",
      "Test Set Metrics:\n",
      "Mean Squared Error (MSE): 3700416.164463261\n",
      "Mean Absolute Error (MAE): 729.6126706340837\n",
      "R-squared (R²): 0.4331375101077328\n"
     ]
    }
   ],
   "execution_count": 47
  },
  {
   "cell_type": "markdown",
   "id": "3fdf2279",
   "metadata": {},
   "source": [
    " - Based on the presented results, the XGBoost model seems to be the optimal choice for predicting phone prices in this particular context. "
   ]
  },
  {
   "cell_type": "markdown",
   "id": "cceb676c",
   "metadata": {},
   "source": [
    "# Hyper parametres tuning"
   ]
  },
  {
   "cell_type": "code",
   "id": "96953250",
   "metadata": {
    "ExecuteTime": {
     "end_time": "2024-08-10T04:36:23.120407Z",
     "start_time": "2024-08-10T04:36:23.113519Z"
    }
   },
   "source": [
    "from sklearn.model_selection import GridSearchCV"
   ],
   "outputs": [],
   "execution_count": 48
  },
  {
   "cell_type": "code",
   "id": "18e1a598",
   "metadata": {
    "ExecuteTime": {
     "end_time": "2024-08-10T04:36:24.137777Z",
     "start_time": "2024-08-10T04:36:24.123136Z"
    }
   },
   "source": [
    "X_train, X_test, y_train, y_test = train_test_split(X, y, test_size=0.2, random_state=42)"
   ],
   "outputs": [],
   "execution_count": 49
  },
  {
   "cell_type": "markdown",
   "id": "72298fca",
   "metadata": {},
   "source": [
    "# 1. Lasso"
   ]
  },
  {
   "cell_type": "markdown",
   "id": "e7fd6bf1",
   "metadata": {},
   "source": [
    "- Define the parameter grid for grid search"
   ]
  },
  {
   "cell_type": "code",
   "id": "f870a78a",
   "metadata": {
    "ExecuteTime": {
     "end_time": "2024-08-10T04:36:26.635769Z",
     "start_time": "2024-08-10T04:36:26.625921Z"
    }
   },
   "source": [
    "param_grid = {'alpha': np.logspace(-4, 4, 9)}  # Example range of alpha values"
   ],
   "outputs": [],
   "execution_count": 50
  },
  {
   "cell_type": "markdown",
   "id": "88f3eeb4",
   "metadata": {},
   "source": [
    "- Fit the grid search "
   ]
  },
  {
   "cell_type": "code",
   "id": "c0ba9156",
   "metadata": {
    "ExecuteTime": {
     "end_time": "2024-08-10T04:36:28.901304Z",
     "start_time": "2024-08-10T04:36:28.469231Z"
    }
   },
   "source": [
    "lasso_model = Lasso()\n",
    "\n",
    "grid_search = GridSearchCV(lasso_model, param_grid, cv=5, scoring='neg_mean_squared_error')\n",
    "\n",
    "grid_search.fit(X_train, y_train)\n"
   ],
   "outputs": [
    {
     "data": {
      "text/plain": [
       "GridSearchCV(cv=5, estimator=Lasso(),\n",
       "             param_grid={'alpha': array([1.e-04, 1.e-03, 1.e-02, 1.e-01, 1.e+00, 1.e+01, 1.e+02, 1.e+03,\n",
       "       1.e+04])},\n",
       "             scoring='neg_mean_squared_error')"
      ],
      "text/html": [
       "<style>#sk-container-id-4 {color: black;}#sk-container-id-4 pre{padding: 0;}#sk-container-id-4 div.sk-toggleable {background-color: white;}#sk-container-id-4 label.sk-toggleable__label {cursor: pointer;display: block;width: 100%;margin-bottom: 0;padding: 0.3em;box-sizing: border-box;text-align: center;}#sk-container-id-4 label.sk-toggleable__label-arrow:before {content: \"▸\";float: left;margin-right: 0.25em;color: #696969;}#sk-container-id-4 label.sk-toggleable__label-arrow:hover:before {color: black;}#sk-container-id-4 div.sk-estimator:hover label.sk-toggleable__label-arrow:before {color: black;}#sk-container-id-4 div.sk-toggleable__content {max-height: 0;max-width: 0;overflow: hidden;text-align: left;background-color: #f0f8ff;}#sk-container-id-4 div.sk-toggleable__content pre {margin: 0.2em;color: black;border-radius: 0.25em;background-color: #f0f8ff;}#sk-container-id-4 input.sk-toggleable__control:checked~div.sk-toggleable__content {max-height: 200px;max-width: 100%;overflow: auto;}#sk-container-id-4 input.sk-toggleable__control:checked~label.sk-toggleable__label-arrow:before {content: \"▾\";}#sk-container-id-4 div.sk-estimator input.sk-toggleable__control:checked~label.sk-toggleable__label {background-color: #d4ebff;}#sk-container-id-4 div.sk-label input.sk-toggleable__control:checked~label.sk-toggleable__label {background-color: #d4ebff;}#sk-container-id-4 input.sk-hidden--visually {border: 0;clip: rect(1px 1px 1px 1px);clip: rect(1px, 1px, 1px, 1px);height: 1px;margin: -1px;overflow: hidden;padding: 0;position: absolute;width: 1px;}#sk-container-id-4 div.sk-estimator {font-family: monospace;background-color: #f0f8ff;border: 1px dotted black;border-radius: 0.25em;box-sizing: border-box;margin-bottom: 0.5em;}#sk-container-id-4 div.sk-estimator:hover {background-color: #d4ebff;}#sk-container-id-4 div.sk-parallel-item::after {content: \"\";width: 100%;border-bottom: 1px solid gray;flex-grow: 1;}#sk-container-id-4 div.sk-label:hover label.sk-toggleable__label {background-color: #d4ebff;}#sk-container-id-4 div.sk-serial::before {content: \"\";position: absolute;border-left: 1px solid gray;box-sizing: border-box;top: 0;bottom: 0;left: 50%;z-index: 0;}#sk-container-id-4 div.sk-serial {display: flex;flex-direction: column;align-items: center;background-color: white;padding-right: 0.2em;padding-left: 0.2em;position: relative;}#sk-container-id-4 div.sk-item {position: relative;z-index: 1;}#sk-container-id-4 div.sk-parallel {display: flex;align-items: stretch;justify-content: center;background-color: white;position: relative;}#sk-container-id-4 div.sk-item::before, #sk-container-id-4 div.sk-parallel-item::before {content: \"\";position: absolute;border-left: 1px solid gray;box-sizing: border-box;top: 0;bottom: 0;left: 50%;z-index: -1;}#sk-container-id-4 div.sk-parallel-item {display: flex;flex-direction: column;z-index: 1;position: relative;background-color: white;}#sk-container-id-4 div.sk-parallel-item:first-child::after {align-self: flex-end;width: 50%;}#sk-container-id-4 div.sk-parallel-item:last-child::after {align-self: flex-start;width: 50%;}#sk-container-id-4 div.sk-parallel-item:only-child::after {width: 0;}#sk-container-id-4 div.sk-dashed-wrapped {border: 1px dashed gray;margin: 0 0.4em 0.5em 0.4em;box-sizing: border-box;padding-bottom: 0.4em;background-color: white;}#sk-container-id-4 div.sk-label label {font-family: monospace;font-weight: bold;display: inline-block;line-height: 1.2em;}#sk-container-id-4 div.sk-label-container {text-align: center;}#sk-container-id-4 div.sk-container {/* jupyter's `normalize.less` sets `[hidden] { display: none; }` but bootstrap.min.css set `[hidden] { display: none !important; }` so we also need the `!important` here to be able to override the default hidden behavior on the sphinx rendered scikit-learn.org. See: https://github.com/scikit-learn/scikit-learn/issues/21755 */display: inline-block !important;position: relative;}#sk-container-id-4 div.sk-text-repr-fallback {display: none;}</style><div id=\"sk-container-id-4\" class=\"sk-top-container\"><div class=\"sk-text-repr-fallback\"><pre>GridSearchCV(cv=5, estimator=Lasso(),\n",
       "             param_grid={&#x27;alpha&#x27;: array([1.e-04, 1.e-03, 1.e-02, 1.e-01, 1.e+00, 1.e+01, 1.e+02, 1.e+03,\n",
       "       1.e+04])},\n",
       "             scoring=&#x27;neg_mean_squared_error&#x27;)</pre><b>In a Jupyter environment, please rerun this cell to show the HTML representation or trust the notebook. <br />On GitHub, the HTML representation is unable to render, please try loading this page with nbviewer.org.</b></div><div class=\"sk-container\" hidden><div class=\"sk-item sk-dashed-wrapped\"><div class=\"sk-label-container\"><div class=\"sk-label sk-toggleable\"><input class=\"sk-toggleable__control sk-hidden--visually\" id=\"sk-estimator-id-6\" type=\"checkbox\" ><label for=\"sk-estimator-id-6\" class=\"sk-toggleable__label sk-toggleable__label-arrow\">GridSearchCV</label><div class=\"sk-toggleable__content\"><pre>GridSearchCV(cv=5, estimator=Lasso(),\n",
       "             param_grid={&#x27;alpha&#x27;: array([1.e-04, 1.e-03, 1.e-02, 1.e-01, 1.e+00, 1.e+01, 1.e+02, 1.e+03,\n",
       "       1.e+04])},\n",
       "             scoring=&#x27;neg_mean_squared_error&#x27;)</pre></div></div></div><div class=\"sk-parallel\"><div class=\"sk-parallel-item\"><div class=\"sk-item\"><div class=\"sk-label-container\"><div class=\"sk-label sk-toggleable\"><input class=\"sk-toggleable__control sk-hidden--visually\" id=\"sk-estimator-id-7\" type=\"checkbox\" ><label for=\"sk-estimator-id-7\" class=\"sk-toggleable__label sk-toggleable__label-arrow\">estimator: Lasso</label><div class=\"sk-toggleable__content\"><pre>Lasso()</pre></div></div></div><div class=\"sk-serial\"><div class=\"sk-item\"><div class=\"sk-estimator sk-toggleable\"><input class=\"sk-toggleable__control sk-hidden--visually\" id=\"sk-estimator-id-8\" type=\"checkbox\" ><label for=\"sk-estimator-id-8\" class=\"sk-toggleable__label sk-toggleable__label-arrow\">Lasso</label><div class=\"sk-toggleable__content\"><pre>Lasso()</pre></div></div></div></div></div></div></div></div></div></div>"
      ]
     },
     "execution_count": 51,
     "metadata": {},
     "output_type": "execute_result"
    }
   ],
   "execution_count": 51
  },
  {
   "cell_type": "markdown",
   "id": "9bee083f",
   "metadata": {},
   "source": [
    "- Print the best hyperparameters"
   ]
  },
  {
   "cell_type": "code",
   "id": "33c882f3",
   "metadata": {
    "ExecuteTime": {
     "end_time": "2024-08-10T04:36:30.627047Z",
     "start_time": "2024-08-10T04:36:30.618194Z"
    }
   },
   "source": [
    "print(\"Best Hyperparameters:\")\n",
    "print(grid_search.best_params_)\n"
   ],
   "outputs": [
    {
     "name": "stdout",
     "output_type": "stream",
     "text": [
      "Best Hyperparameters:\n",
      "{'alpha': 0.0001}\n"
     ]
    }
   ],
   "execution_count": 52
  },
  {
   "cell_type": "markdown",
   "id": "fb04c369",
   "metadata": {},
   "source": [
    "- Get the best model from grid search"
   ]
  },
  {
   "cell_type": "code",
   "id": "8f03865a",
   "metadata": {
    "ExecuteTime": {
     "end_time": "2024-08-10T04:36:32.456866Z",
     "start_time": "2024-08-10T04:36:32.440695Z"
    }
   },
   "source": [
    "best_lasso_model = grid_search.best_estimator_"
   ],
   "outputs": [],
   "execution_count": 53
  },
  {
   "cell_type": "markdown",
   "id": "a4c8b3da",
   "metadata": {},
   "source": [
    "- Make predictions on the test set\n"
   ]
  },
  {
   "cell_type": "code",
   "id": "32f8d440",
   "metadata": {
    "ExecuteTime": {
     "end_time": "2024-08-10T04:36:34.401993Z",
     "start_time": "2024-08-10T04:36:34.386872Z"
    }
   },
   "source": [
    "y_test_pred = best_lasso_model.predict(X_test)\n"
   ],
   "outputs": [],
   "execution_count": 54
  },
  {
   "cell_type": "markdown",
   "id": "56b3bad4",
   "metadata": {},
   "source": [
    "- Evaluate the model on the test set\n"
   ]
  },
  {
   "cell_type": "code",
   "id": "e0478e22",
   "metadata": {
    "ExecuteTime": {
     "end_time": "2024-08-10T04:36:36.927408Z",
     "start_time": "2024-08-10T04:36:36.911091Z"
    }
   },
   "source": [
    "test_mae = mean_absolute_error(y_test, y_test_pred)\n",
    "test_mse = mean_squared_error(y_test, y_test_pred)\n",
    "test_r2 = r2_score(y_test, y_test_pred)\n",
    "\n",
    "print(\"Test Set Metrics:\")\n",
    "print(f\"Mean Absolute Error (MAE): {test_mae}\")\n",
    "print(f\"Mean Squared Error (MSE): {test_mse}\")\n",
    "print(f\"R-squared (R²): {test_r2}\")\n"
   ],
   "outputs": [
    {
     "name": "stdout",
     "output_type": "stream",
     "text": [
      "Test Set Metrics:\n",
      "Mean Absolute Error (MAE): 718.3708537389034\n",
      "Mean Squared Error (MSE): 3581105.384161389\n",
      "R-squared (R²): 0.45141459111349014\n"
     ]
    }
   ],
   "execution_count": 55
  },
  {
   "cell_type": "markdown",
   "id": "3ad4e131",
   "metadata": {},
   "source": [
    "# 2. Ridge"
   ]
  },
  {
   "cell_type": "code",
   "id": "93126090",
   "metadata": {
    "ExecuteTime": {
     "end_time": "2024-08-10T04:36:41.735452Z",
     "start_time": "2024-08-10T04:36:41.283925Z"
    }
   },
   "source": [
    "param_grid = {'alpha': np.logspace(-4, 4, 9)} \n",
    "\n",
    "ridge_model = Ridge()\n",
    "\n",
    "grid_search = GridSearchCV(ridge_model, param_grid, cv=5, scoring='neg_mean_squared_error')\n",
    "\n",
    "grid_search.fit(X_train, y_train)\n",
    "\n",
    "print(\"Best Hyperparameters:\")\n",
    "print(grid_search.best_params_)\n"
   ],
   "outputs": [
    {
     "name": "stdout",
     "output_type": "stream",
     "text": [
      "Best Hyperparameters:\n",
      "{'alpha': 10.0}\n"
     ]
    }
   ],
   "execution_count": 56
  },
  {
   "cell_type": "code",
   "id": "b96f5cf0",
   "metadata": {
    "ExecuteTime": {
     "end_time": "2024-08-10T04:36:42.698780Z",
     "start_time": "2024-08-10T04:36:42.678947Z"
    }
   },
   "source": [
    "best_ridge_model = grid_search.best_estimator_\n",
    "\n",
    "y_test_pred = best_ridge_model.predict(X_test)\n",
    "\n",
    "test_mae = mean_absolute_error(y_test, y_test_pred)\n",
    "test_mse = mean_squared_error(y_test, y_test_pred)\n",
    "test_r2 = r2_score(y_test, y_test_pred)\n",
    "\n",
    "print(\"Test Set Metrics:\")\n",
    "print(f\"Mean Absolute Error (MAE): {test_mae}\")\n",
    "print(f\"Mean Squared Error (MSE): {test_mse}\")\n",
    "print(f\"R-squared (R²): {test_r2}\")\n"
   ],
   "outputs": [
    {
     "name": "stdout",
     "output_type": "stream",
     "text": [
      "Test Set Metrics:\n",
      "Mean Absolute Error (MAE): 778.3742871222674\n",
      "Mean Squared Error (MSE): 4175739.408022133\n",
      "R-squared (R²): 0.3603232899302753\n"
     ]
    }
   ],
   "execution_count": 57
  },
  {
   "cell_type": "markdown",
   "id": "de0e080b",
   "metadata": {},
   "source": [
    "# 3. Randome Forest Regressor"
   ]
  },
  {
   "cell_type": "code",
   "id": "21a990c6",
   "metadata": {
    "ExecuteTime": {
     "end_time": "2024-08-10T04:37:30.231118Z",
     "start_time": "2024-08-10T04:36:44.829825Z"
    }
   },
   "source": [
    "param_grid = {\n",
    "    'n_estimators': [50, 100, 200],\n",
    "    'max_depth': [10, 20, 30],\n",
    "    'min_samples_split': [2, 5, 10]\n",
    "}\n",
    "\n",
    "rf_model = RandomForestRegressor()\n",
    "\n",
    "grid_search = GridSearchCV(rf_model, param_grid, cv=5, scoring='neg_mean_squared_error')\n",
    "\n",
    "grid_search.fit(X_train, y_train)\n",
    "\n",
    "print(\"Best Hyperparameters:\")\n",
    "print(grid_search.best_params_)\n",
    "\n"
   ],
   "outputs": [
    {
     "name": "stdout",
     "output_type": "stream",
     "text": [
      "Best Hyperparameters:\n",
      "{'max_depth': 10, 'min_samples_split': 5, 'n_estimators': 50}\n"
     ]
    }
   ],
   "execution_count": 58
  },
  {
   "cell_type": "code",
   "id": "1177729f",
   "metadata": {
    "ExecuteTime": {
     "end_time": "2024-08-10T04:37:32.845806Z",
     "start_time": "2024-08-10T04:37:32.806728Z"
    }
   },
   "source": [
    "best_rf_model = grid_search.best_estimator_\n",
    "\n",
    "y_test_pred = best_rf_model.predict(X_test)\n",
    "\n",
    "test_mae = mean_absolute_error(y_test, y_test_pred)\n",
    "test_mse = mean_squared_error(y_test, y_test_pred)\n",
    "test_r2 = r2_score(y_test, y_test_pred)\n",
    "\n",
    "print(\"Test Set Metrics:\")\n",
    "print(f\"Mean Absolute Error (MAE): {test_mae}\")\n",
    "print(f\"Mean Squared Error (MSE): {test_mse}\")\n",
    "print(f\"R-squared (R²): {test_r2}\")\n"
   ],
   "outputs": [
    {
     "name": "stdout",
     "output_type": "stream",
     "text": [
      "Test Set Metrics:\n",
      "Mean Absolute Error (MAE): 470.9261360059302\n",
      "Mean Squared Error (MSE): 2095912.2402655173\n",
      "R-squared (R²): 0.6789296181001518\n"
     ]
    }
   ],
   "execution_count": 59
  },
  {
   "cell_type": "markdown",
   "id": "808db993",
   "metadata": {},
   "source": [
    "# 4. XGBRegressor"
   ]
  },
  {
   "cell_type": "code",
   "id": "c7ab7f2d",
   "metadata": {
    "ExecuteTime": {
     "end_time": "2024-08-10T04:37:35.408742Z",
     "start_time": "2024-08-10T04:37:35.399399Z"
    }
   },
   "source": [
    "param_grid = {\n",
    "    'n_estimators': [100, 200, 300],\n",
    "    'learning_rate': [0.01, 0.1, 0.2],\n",
    "    'max_depth': [3, 4, 5],\n",
    "}\n",
    "\n",
    "xgb_regressor = XGBRegressor()"
   ],
   "outputs": [],
   "execution_count": 60
  },
  {
   "cell_type": "code",
   "id": "74b9b3f7",
   "metadata": {
    "ExecuteTime": {
     "end_time": "2024-08-10T04:37:50.765742Z",
     "start_time": "2024-08-10T04:37:36.487561Z"
    }
   },
   "source": [
    "from sklearn.metrics import make_scorer\n",
    "\n",
    "scorer = make_scorer(mean_absolute_error, greater_is_better=False)\n",
    "\n",
    "grid_search = GridSearchCV(estimator=xgb_regressor, param_grid=param_grid, scoring=scorer, cv=5)\n",
    "grid_result = grid_search.fit(X_train, y_train)\n",
    "\n",
    "best_params = grid_result.best_params_\n",
    "print(\"Best Hyperparameters:\")\n",
    "for param, value in best_params.items():\n",
    "    print(f\"{param}: {value}\")"
   ],
   "outputs": [
    {
     "name": "stdout",
     "output_type": "stream",
     "text": [
      "Best Hyperparameters:\n",
      "learning_rate: 0.2\n",
      "max_depth: 4\n",
      "n_estimators: 200\n"
     ]
    }
   ],
   "execution_count": 61
  },
  {
   "cell_type": "code",
   "id": "66a06841",
   "metadata": {
    "ExecuteTime": {
     "end_time": "2024-08-10T04:37:52.589823Z",
     "start_time": "2024-08-10T04:37:52.565653Z"
    }
   },
   "source": [
    "best_xg_model = grid_search.best_estimator_\n",
    "\n",
    "y_test_pred = best_xg_model.predict(X_test)\n",
    "\n",
    "test_mae = mean_absolute_error(y_test, y_test_pred)\n",
    "test_mse = mean_squared_error(y_test, y_test_pred)\n",
    "test_r2 = r2_score(y_test, y_test_pred)\n",
    "\n",
    "print(\"Test Set Metrics:\")\n",
    "print(f\"Mean Absolute Error (MAE): {test_mae}\")\n",
    "print(f\"Mean Squared Error (MSE): {test_mse}\")\n",
    "print(f\"R-squared (R²): {test_r2}\")"
   ],
   "outputs": [
    {
     "name": "stdout",
     "output_type": "stream",
     "text": [
      "Test Set Metrics:\n",
      "Mean Absolute Error (MAE): 367.6569049541767\n",
      "Mean Squared Error (MSE): 995017.7511480671\n",
      "R-squared (R²): 0.8475743768175301\n"
     ]
    }
   ],
   "execution_count": 62
  },
  {
   "cell_type": "code",
   "id": "3d9747f3",
   "metadata": {
    "ExecuteTime": {
     "end_time": "2024-08-10T04:37:53.625356Z",
     "start_time": "2024-08-10T04:37:53.459970Z"
    }
   },
   "source": [
    "best_xg_model.fit(X,y)"
   ],
   "outputs": [
    {
     "data": {
      "text/plain": [
       "XGBRegressor(base_score=None, booster=None, callbacks=None,\n",
       "             colsample_bylevel=None, colsample_bynode=None,\n",
       "             colsample_bytree=None, device=None, early_stopping_rounds=None,\n",
       "             enable_categorical=False, eval_metric=None, feature_types=None,\n",
       "             gamma=None, grow_policy=None, importance_type=None,\n",
       "             interaction_constraints=None, learning_rate=0.2, max_bin=None,\n",
       "             max_cat_threshold=None, max_cat_to_onehot=None,\n",
       "             max_delta_step=None, max_depth=4, max_leaves=None,\n",
       "             min_child_weight=None, missing=nan, monotone_constraints=None,\n",
       "             multi_strategy=None, n_estimators=200, n_jobs=None,\n",
       "             num_parallel_tree=None, random_state=None, ...)"
      ],
      "text/html": [
       "<style>#sk-container-id-5 {color: black;}#sk-container-id-5 pre{padding: 0;}#sk-container-id-5 div.sk-toggleable {background-color: white;}#sk-container-id-5 label.sk-toggleable__label {cursor: pointer;display: block;width: 100%;margin-bottom: 0;padding: 0.3em;box-sizing: border-box;text-align: center;}#sk-container-id-5 label.sk-toggleable__label-arrow:before {content: \"▸\";float: left;margin-right: 0.25em;color: #696969;}#sk-container-id-5 label.sk-toggleable__label-arrow:hover:before {color: black;}#sk-container-id-5 div.sk-estimator:hover label.sk-toggleable__label-arrow:before {color: black;}#sk-container-id-5 div.sk-toggleable__content {max-height: 0;max-width: 0;overflow: hidden;text-align: left;background-color: #f0f8ff;}#sk-container-id-5 div.sk-toggleable__content pre {margin: 0.2em;color: black;border-radius: 0.25em;background-color: #f0f8ff;}#sk-container-id-5 input.sk-toggleable__control:checked~div.sk-toggleable__content {max-height: 200px;max-width: 100%;overflow: auto;}#sk-container-id-5 input.sk-toggleable__control:checked~label.sk-toggleable__label-arrow:before {content: \"▾\";}#sk-container-id-5 div.sk-estimator input.sk-toggleable__control:checked~label.sk-toggleable__label {background-color: #d4ebff;}#sk-container-id-5 div.sk-label input.sk-toggleable__control:checked~label.sk-toggleable__label {background-color: #d4ebff;}#sk-container-id-5 input.sk-hidden--visually {border: 0;clip: rect(1px 1px 1px 1px);clip: rect(1px, 1px, 1px, 1px);height: 1px;margin: -1px;overflow: hidden;padding: 0;position: absolute;width: 1px;}#sk-container-id-5 div.sk-estimator {font-family: monospace;background-color: #f0f8ff;border: 1px dotted black;border-radius: 0.25em;box-sizing: border-box;margin-bottom: 0.5em;}#sk-container-id-5 div.sk-estimator:hover {background-color: #d4ebff;}#sk-container-id-5 div.sk-parallel-item::after {content: \"\";width: 100%;border-bottom: 1px solid gray;flex-grow: 1;}#sk-container-id-5 div.sk-label:hover label.sk-toggleable__label {background-color: #d4ebff;}#sk-container-id-5 div.sk-serial::before {content: \"\";position: absolute;border-left: 1px solid gray;box-sizing: border-box;top: 0;bottom: 0;left: 50%;z-index: 0;}#sk-container-id-5 div.sk-serial {display: flex;flex-direction: column;align-items: center;background-color: white;padding-right: 0.2em;padding-left: 0.2em;position: relative;}#sk-container-id-5 div.sk-item {position: relative;z-index: 1;}#sk-container-id-5 div.sk-parallel {display: flex;align-items: stretch;justify-content: center;background-color: white;position: relative;}#sk-container-id-5 div.sk-item::before, #sk-container-id-5 div.sk-parallel-item::before {content: \"\";position: absolute;border-left: 1px solid gray;box-sizing: border-box;top: 0;bottom: 0;left: 50%;z-index: -1;}#sk-container-id-5 div.sk-parallel-item {display: flex;flex-direction: column;z-index: 1;position: relative;background-color: white;}#sk-container-id-5 div.sk-parallel-item:first-child::after {align-self: flex-end;width: 50%;}#sk-container-id-5 div.sk-parallel-item:last-child::after {align-self: flex-start;width: 50%;}#sk-container-id-5 div.sk-parallel-item:only-child::after {width: 0;}#sk-container-id-5 div.sk-dashed-wrapped {border: 1px dashed gray;margin: 0 0.4em 0.5em 0.4em;box-sizing: border-box;padding-bottom: 0.4em;background-color: white;}#sk-container-id-5 div.sk-label label {font-family: monospace;font-weight: bold;display: inline-block;line-height: 1.2em;}#sk-container-id-5 div.sk-label-container {text-align: center;}#sk-container-id-5 div.sk-container {/* jupyter's `normalize.less` sets `[hidden] { display: none; }` but bootstrap.min.css set `[hidden] { display: none !important; }` so we also need the `!important` here to be able to override the default hidden behavior on the sphinx rendered scikit-learn.org. See: https://github.com/scikit-learn/scikit-learn/issues/21755 */display: inline-block !important;position: relative;}#sk-container-id-5 div.sk-text-repr-fallback {display: none;}</style><div id=\"sk-container-id-5\" class=\"sk-top-container\"><div class=\"sk-text-repr-fallback\"><pre>XGBRegressor(base_score=None, booster=None, callbacks=None,\n",
       "             colsample_bylevel=None, colsample_bynode=None,\n",
       "             colsample_bytree=None, device=None, early_stopping_rounds=None,\n",
       "             enable_categorical=False, eval_metric=None, feature_types=None,\n",
       "             gamma=None, grow_policy=None, importance_type=None,\n",
       "             interaction_constraints=None, learning_rate=0.2, max_bin=None,\n",
       "             max_cat_threshold=None, max_cat_to_onehot=None,\n",
       "             max_delta_step=None, max_depth=4, max_leaves=None,\n",
       "             min_child_weight=None, missing=nan, monotone_constraints=None,\n",
       "             multi_strategy=None, n_estimators=200, n_jobs=None,\n",
       "             num_parallel_tree=None, random_state=None, ...)</pre><b>In a Jupyter environment, please rerun this cell to show the HTML representation or trust the notebook. <br />On GitHub, the HTML representation is unable to render, please try loading this page with nbviewer.org.</b></div><div class=\"sk-container\" hidden><div class=\"sk-item\"><div class=\"sk-estimator sk-toggleable\"><input class=\"sk-toggleable__control sk-hidden--visually\" id=\"sk-estimator-id-9\" type=\"checkbox\" checked><label for=\"sk-estimator-id-9\" class=\"sk-toggleable__label sk-toggleable__label-arrow\">XGBRegressor</label><div class=\"sk-toggleable__content\"><pre>XGBRegressor(base_score=None, booster=None, callbacks=None,\n",
       "             colsample_bylevel=None, colsample_bynode=None,\n",
       "             colsample_bytree=None, device=None, early_stopping_rounds=None,\n",
       "             enable_categorical=False, eval_metric=None, feature_types=None,\n",
       "             gamma=None, grow_policy=None, importance_type=None,\n",
       "             interaction_constraints=None, learning_rate=0.2, max_bin=None,\n",
       "             max_cat_threshold=None, max_cat_to_onehot=None,\n",
       "             max_delta_step=None, max_depth=4, max_leaves=None,\n",
       "             min_child_weight=None, missing=nan, monotone_constraints=None,\n",
       "             multi_strategy=None, n_estimators=200, n_jobs=None,\n",
       "             num_parallel_tree=None, random_state=None, ...)</pre></div></div></div></div></div>"
      ]
     },
     "execution_count": 63,
     "metadata": {},
     "output_type": "execute_result"
    }
   ],
   "execution_count": 63
  },
  {
   "cell_type": "markdown",
   "id": "167f1d21",
   "metadata": {},
   "source": [
    "- Still the XGBoost model is the best model for our problem."
   ]
  },
  {
   "cell_type": "markdown",
   "id": "d1522268",
   "metadata": {},
   "source": [
    "## Save the xgboost model"
   ]
  },
  {
   "cell_type": "code",
   "id": "e266a976",
   "metadata": {
    "ExecuteTime": {
     "start_time": "2024-08-10T04:35:04.877171Z"
    }
   },
   "source": [
    "import pickle "
   ],
   "outputs": [],
   "execution_count": null
  },
  {
   "cell_type": "code",
   "id": "386e88b5",
   "metadata": {
    "ExecuteTime": {
     "start_time": "2024-08-10T04:35:04.881167Z"
    }
   },
   "source": "pickle.dump(best_xg_model,open(r'D:\\Workspace\\Pycharm\\sic\\BigDataProject\\ML_operations\\xgboost.pkl','wb'))",
   "outputs": [],
   "execution_count": null
  },
  {
   "cell_type": "code",
   "id": "dae8122a",
   "metadata": {
    "ExecuteTime": {
     "end_time": "2024-08-10T04:35:05.070349Z",
     "start_time": "2024-08-10T04:35:04.885163Z"
    }
   },
   "source": [],
   "outputs": [],
   "execution_count": null
  },
  {
   "cell_type": "code",
   "id": "6beb1a16",
   "metadata": {
    "ExecuteTime": {
     "start_time": "2024-08-10T04:35:04.890168Z"
    }
   },
   "source": [],
   "outputs": [],
   "execution_count": null
  },
  {
   "cell_type": "code",
   "id": "61c0bc27",
   "metadata": {
    "ExecuteTime": {
     "start_time": "2024-08-10T04:35:04.894168Z"
    }
   },
   "source": [],
   "outputs": [],
   "execution_count": null
  },
  {
   "cell_type": "code",
   "id": "27b88779",
   "metadata": {
    "ExecuteTime": {
     "start_time": "2024-08-10T04:35:04.899167Z"
    }
   },
   "source": [],
   "outputs": [],
   "execution_count": null
  },
  {
   "cell_type": "code",
   "id": "8b6e5583",
   "metadata": {
    "ExecuteTime": {
     "start_time": "2024-08-10T04:35:04.903168Z"
    }
   },
   "source": [],
   "outputs": [],
   "execution_count": null
  },
  {
   "cell_type": "code",
   "id": "48f9dd25",
   "metadata": {
    "ExecuteTime": {
     "start_time": "2024-08-10T04:35:04.908156Z"
    }
   },
   "source": [],
   "outputs": [],
   "execution_count": null
  }
 ],
 "metadata": {
  "kernelspec": {
   "display_name": "Python 3 (ipykernel)",
   "language": "python",
   "name": "python3"
  },
  "language_info": {
   "codemirror_mode": {
    "name": "ipython",
    "version": 3
   },
   "file_extension": ".py",
   "mimetype": "text/x-python",
   "name": "python",
   "nbconvert_exporter": "python",
   "pygments_lexer": "ipython3",
   "version": "3.9.12"
  }
 },
 "nbformat": 4,
 "nbformat_minor": 5
}
